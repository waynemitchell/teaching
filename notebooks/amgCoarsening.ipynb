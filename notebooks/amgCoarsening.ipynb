{
 "cells": [
  {
   "cell_type": "code",
   "execution_count": 1,
   "metadata": {},
   "outputs": [],
   "source": [
    "# Get some code for generating test problems from PyAMG\n",
    "# PyAMG: https://github.com/pyamg/pyamg\n",
    "!wget -Nq https://raw.githubusercontent.com/pyamg/pyamg/master/pyamg/gallery/diffusion.py\n",
    "!wget -Nq https://raw.githubusercontent.com/pyamg/pyamg/master/pyamg/gallery/stencil.py"
   ]
  },
  {
   "cell_type": "code",
   "execution_count": 24,
   "metadata": {},
   "outputs": [],
   "source": [
    "# Import some python libraries we need\n",
    "import numpy as np\n",
    "import matplotlib.pyplot as plt\n",
    "import stencil\n",
    "import diffusion\n",
    "import time\n",
    "from IPython import display\n",
    "\n",
    "# Size of the fine-grid and coarse-grid problem\n",
    "n = 9 # size in 1D\n",
    "N = n*n # size in 2D\n",
    "\n",
    "# Create matrix for diffusion problem (using stencil.py and diffusion.py from PyAMG)\n",
    "sten = diffusion.diffusion_stencil_2d(epsilon=0.001, theta=0.0, type='FD')\n",
    "A = stencil.stencil_grid(sten, (n, n), format='csr')\n",
    "# print(A)\n"
   ]
  },
  {
   "cell_type": "code",
   "execution_count": 25,
   "metadata": {},
   "outputs": [
    {
     "data": {
      "image/png": "[encoded data removed]",
      "text/plain": [
       "<Figure size 432x288 with 1 Axes>"
      ]
     },
     "metadata": {},
     "output_type": "display_data"
    },
    {
     "data": {
      "image/png": "[encoded data removed]",
      "text/plain": [
       "<Figure size 432x288 with 1 Axes>"
      ]
     },
     "metadata": {
      "needs_background": "light"
     },
     "output_type": "display_data"
    }
   ],
   "source": [
    "# Set threshold and get row max for A to determine strength of connection later\n",
    "threshold = 0.25\n",
    "row_max = np.zeros(N)\n",
    "for i in range(N):\n",
    "    x1 = i % n\n",
    "    y1 = int(i / n)\n",
    "    for jj in range(A.indptr[i], A.indptr[i+1]):\n",
    "        j = A.indices[jj]\n",
    "        if -A.data[jj] > row_max[i] and j != i:\n",
    "            row_max[i] = -A.data[jj]\n",
    "\n",
    "# Initialize lambda\n",
    "lam = np.zeros(N)\n",
    "for i in range(N):\n",
    "    for jj in range(A.indptr[i], A.indptr[i+1]):\n",
    "        j = A.indices[jj]\n",
    "        if -A.data[jj] >= threshold * row_max[i]:\n",
    "            lam[i] = lam[i] + 1\n",
    "            \n",
    "# print(row_max)            \n",
    "# print(lam)\n",
    "\n",
    "\n",
    "# Plot connections in A\n",
    "threshold = 0.25\n",
    "cnt = 0\n",
    "for i in range(N):\n",
    "    x1 = i % n\n",
    "    y1 = int(i / n)\n",
    "    for jj in range(A.indptr[i], A.indptr[i+1]):\n",
    "        j = A.indices[jj]\n",
    "        x2 = j % n\n",
    "        y2 = int(j / n)\n",
    "        if A.indices[jj] == i:\n",
    "            plt.plot([x1,x2],[y1,y2],'ok',markersize=4)\n",
    "        else:\n",
    "            if -A.data[jj] < threshold * row_max[i]:\n",
    "                plt.plot([x1,x2],[y1,y2],':k')\n",
    "            else:\n",
    "                plt.plot([x1,x2],[y1,y2],'-k')\n",
    "\n",
    "# Plot progress of coloring scheme\n",
    "done = 0\n",
    "while not done:\n",
    "    \n",
    "    # Find the max lambda and make it a C-point\n",
    "    i = np.argmax(lam)\n",
    "    if lam[i] < 0:\n",
    "        done = 1\n",
    "    else:\n",
    "        x = i % n\n",
    "        y = int(i / n)\n",
    "        plt.plot(x,y,'sr',markersize=10)\n",
    "        lam[i] = -1\n",
    "\n",
    "        # Make all strongly connected points as F-points\n",
    "        for jj in range(A.indptr[i], A.indptr[i+1]):\n",
    "            j = A.indices[jj]\n",
    "            if -A.data[jj] >= threshold * row_max[i]:\n",
    "                x = j % n\n",
    "                y = int(j / n)\n",
    "                plt.plot(x,y,'^b',markersize=8)\n",
    "                lam[j] = -1\n",
    "\n",
    "                # Increment lambda for unmarked connected points\n",
    "                for kk in range(A.indptr[j], A.indptr[j+1]):\n",
    "                    k = A.indices[kk]\n",
    "                    if lam[k] >= 0:\n",
    "                        lam[k] = lam[k] + 1\n",
    "\n",
    "    display.clear_output(wait=True)\n",
    "    display.display(plt.gcf())\n",
    "    time.sleep(1)\n"
   ]
  },
  {
   "cell_type": "code",
   "execution_count": null,
   "metadata": {},
   "outputs": [],
   "source": []
  },
  {
   "cell_type": "code",
   "execution_count": null,
   "metadata": {},
   "outputs": [],
   "source": []
  }
 ],
 "metadata": {
  "kernelspec": {
   "display_name": "Python 3",
   "language": "python",
   "name": "python3"
  },
  "language_info": {
   "codemirror_mode": {
    "name": "ipython",
    "version": 3
   },
   "file_extension": ".py",
   "mimetype": "text/x-python",
   "name": "python",
   "nbconvert_exporter": "python",
   "pygments_lexer": "ipython3",
   "version": "3.6.8"
  }
 },
 "nbformat": 4,
 "nbformat_minor": 2
}
