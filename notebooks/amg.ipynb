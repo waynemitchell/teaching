{
 "cells": [
  {
   "cell_type": "code",
   "execution_count": null,
   "metadata": {},
   "outputs": [],
   "source": [
    "!pip3 install pyamg"
   ]
  },
  {
   "cell_type": "code",
   "execution_count": 33,
   "metadata": {},
   "outputs": [],
   "source": [
    "import pyamg\n",
    "import numpy as np\n",
    "import matplotlib.pyplot as plt\n",
    "from pyamg.vis.vis_coarse import vis_splitting"
   ]
  },
  {
   "cell_type": "code",
   "execution_count": 96,
   "metadata": {},
   "outputs": [
    {
     "name": "stdout",
     "output_type": "stream",
     "text": [
      "multilevel_solver\n",
      "Number of Levels:     4\n",
      "Operator Complexity:  2.085\n",
      "Grid Complexity:      1.667\n",
      "Coarse Solver:        'pinv2'\n",
      "  level   unknowns     nonzeros\n",
      "    0          225         1065 [47.95%]\n",
      "    1          113          897 [40.39%]\n",
      "    2           30          222 [10.00%]\n",
      "    3            7           37 [ 1.67%]\n",
      "\n",
      "  (0, 0)\t1.0\n",
      "  (1, 0)\t0.25\n",
      "  (1, 1)\t0.25\n",
      "  (1, 8)\t0.25\n",
      "  (2, 1)\t1.0\n",
      "  (3, 1)\t0.25\n",
      "  (3, 2)\t0.25\n",
      "  (3, 9)\t0.25\n",
      "  (4, 2)\t1.0\n",
      "  (5, 2)\t0.25\n",
      "  (5, 3)\t0.25\n",
      "  (5, 10)\t0.25\n",
      "  (6, 3)\t1.0\n",
      "  (7, 3)\t0.25\n",
      "  (7, 4)\t0.25\n",
      "  (7, 11)\t0.25\n",
      "  (8, 4)\t1.0\n",
      "  (9, 4)\t0.25\n",
      "  (9, 5)\t0.25\n",
      "  (9, 12)\t0.25\n",
      "  (10, 5)\t1.0\n",
      "  (11, 5)\t0.25\n",
      "  (11, 6)\t0.25\n",
      "  (11, 13)\t0.25\n",
      "  (12, 6)\t1.0\n",
      "  :\t:\n",
      "  (212, 106)\t1.0\n",
      "  (213, 99)\t0.25\n",
      "  (213, 106)\t0.25\n",
      "  (213, 107)\t0.25\n",
      "  (214, 107)\t1.0\n",
      "  (215, 100)\t0.25\n",
      "  (215, 107)\t0.25\n",
      "  (215, 108)\t0.25\n",
      "  (216, 108)\t1.0\n",
      "  (217, 101)\t0.25\n",
      "  (217, 108)\t0.25\n",
      "  (217, 109)\t0.25\n",
      "  (218, 109)\t1.0\n",
      "  (219, 102)\t0.25\n",
      "  (219, 109)\t0.25\n",
      "  (219, 110)\t0.25\n",
      "  (220, 110)\t1.0\n",
      "  (221, 103)\t0.25\n",
      "  (221, 110)\t0.25\n",
      "  (221, 111)\t0.25\n",
      "  (222, 111)\t1.0\n",
      "  (223, 104)\t0.25\n",
      "  (223, 111)\t0.25\n",
      "  (223, 112)\t0.25\n",
      "  (224, 112)\t1.0\n",
      "5\n",
      "9.629893740571586e-08\n"
     ]
    },
    {
     "data": {
      "image/png": "[encoded data removed]",
      "text/plain": [
       "<Figure size 432x288 with 1 Axes>"
      ]
     },
     "metadata": {
      "needs_background": "light"
     },
     "output_type": "display_data"
    }
   ],
   "source": [
    "# Define problem\n",
    "n=16\n",
    "sten = pyamg.gallery.diffusion.diffusion_stencil_2d(epsilon=1.0, theta=0.0, type='FD')\n",
    "A = pyamg.gallery.stencil_grid(sten, (n-1,n-1), format='csr')\n",
    "\n",
    "# meshgrid for locations of points on fine grid\n",
    "X, Y = np.meshgrid(np.arange(1.0/n,1.0,1.0/n),np.arange(1.0/n,1.0,1.0/n))\n",
    "X = X.reshape((X.size,1))\n",
    "Y = Y.reshape((Y.size,1))\n",
    "V = []\n",
    "V.append(np.concatenate((X,Y),axis=1))\n",
    "\n",
    "# Construct Ruge-Stüben AMG hierarchy using PyAMG\n",
    "ml = pyamg.ruge_stuben_solver(A, keep=True)\n",
    "print(ml) # Look at complexity of coarse-grid operators\n",
    "# print(ml.levels[0].P)\n",
    "\n",
    "# Set a right-hand side and do a solve\n",
    "b = A * np.ones(A.shape[0])\n",
    "residuals = []\n",
    "x = ml.solve(b, tol=1e-6, residuals=residuals)\n",
    "\n",
    "# Print number of iterations and final relative residual\n",
    "print(len(residuals)-1)\n",
    "print(residuals[-1]/residuals[0])\n",
    "\n",
    "# Get point locations on coarser grids\n",
    "for level in range(len(ml.levels)-1):\n",
    "# for level in range(1):\n",
    "    split = ml.levels[level].splitting\n",
    "    C_pts = []\n",
    "    for point in range(len(split)):\n",
    "        if split[point]:\n",
    "            C_pts.append(point)\n",
    "    V.append(V[-1][C_pts,:])\n",
    "\n",
    "# Visualize the C/F splitting on some level\n",
    "level = 0\n",
    "vis_splitting(Verts=V[level],splitting=ml.levels[level].splitting,output='matplotlib')"
   ]
  },
  {
   "cell_type": "code",
   "execution_count": null,
   "metadata": {},
   "outputs": [],
   "source": []
  }
 ],
 "metadata": {
  "kernelspec": {
   "display_name": "Python 3",
   "language": "python",
   "name": "python3"
  },
  "language_info": {
   "codemirror_mode": {
    "name": "ipython",
    "version": 3
   },
   "file_extension": ".py",
   "mimetype": "text/x-python",
   "name": "python",
   "nbconvert_exporter": "python",
   "pygments_lexer": "ipython3",
   "version": "3.6.8"
  }
 },
 "nbformat": 4,
 "nbformat_minor": 2
}
