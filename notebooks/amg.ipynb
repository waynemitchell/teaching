{
 "cells": [
  {
   "cell_type": "code",
   "execution_count": 5,
   "metadata": {
    "collapsed": true
   },
   "outputs": [
    {
     "name": "stdout",
     "output_type": "stream",
     "text": [
      "Collecting pyamg\n",
      "\u001b[?25l  Downloading https://files.pythonhosted.org/packages/34/1a/e97e29eb9389c1ffe9ce5371ce54b731c65904d6f4cbff28a43ee6e4d850/pyamg-4.0.0-cp37-cp37m-macosx_10_13_x86_64.whl (1.4MB)\n",
      "\u001b[K     |████████████████████████████████| 1.4MB 4.7MB/s eta 0:00:01\n",
      "\u001b[?25hRequirement already satisfied: numpy>=1.7.0 in /usr/local/lib/python3.7/site-packages (from pyamg) (1.17.2)\n",
      "Collecting pybind11>=2.2 (from pyamg)\n",
      "\u001b[?25l  Downloading https://files.pythonhosted.org/packages/4b/4d/ae1c4d8e8b139afa9682054dd42df3b0e3b5c1731287933021b9fd7e9cc4/pybind11-2.4.3-py2.py3-none-any.whl (150kB)\n",
      "\u001b[K     |████████████████████████████████| 153kB 3.9MB/s eta 0:00:01\n",
      "\u001b[?25hCollecting pytest>=2 (from pyamg)\n",
      "\u001b[?25l  Downloading https://files.pythonhosted.org/packages/a5/c0/34033b2df7718b91c667bd259d5ce632ec3720198b7068c0ba6f6104ff89/pytest-5.3.5-py3-none-any.whl (235kB)\n",
      "\u001b[K     |████████████████████████████████| 235kB 3.9MB/s eta 0:00:01\n",
      "\u001b[?25hRequirement already satisfied: scipy>=0.12.0 in /usr/local/lib/python3.7/site-packages (from pyamg) (1.2.1)\n",
      "Requirement already satisfied: attrs>=17.4.0 in /usr/local/lib/python3.7/site-packages (from pytest>=2->pyamg) (19.3.0)\n",
      "Collecting pluggy<1.0,>=0.12 (from pytest>=2->pyamg)\n",
      "  Downloading https://files.pythonhosted.org/packages/a0/28/85c7aa31b80d150b772fbe4a229487bc6644da9ccb7e427dd8cc60cb8a62/pluggy-0.13.1-py2.py3-none-any.whl\n",
      "Requirement already satisfied: wcwidth in /usr/local/lib/python3.7/site-packages (from pytest>=2->pyamg) (0.1.7)\n",
      "Requirement already satisfied: importlib-metadata>=0.12; python_version < \"3.8\" in /usr/local/lib/python3.7/site-packages (from pytest>=2->pyamg) (0.23)\n",
      "Collecting py>=1.5.0 (from pytest>=2->pyamg)\n",
      "\u001b[?25l  Downloading https://files.pythonhosted.org/packages/99/8d/21e1767c009211a62a8e3067280bfce76e89c9f876180308515942304d2d/py-1.8.1-py2.py3-none-any.whl (83kB)\n",
      "\u001b[K     |████████████████████████████████| 92kB 5.9MB/s eta 0:00:011\n",
      "\u001b[?25hRequirement already satisfied: more-itertools>=4.0.0 in /usr/local/lib/python3.7/site-packages (from pytest>=2->pyamg) (7.2.0)\n",
      "Collecting packaging (from pytest>=2->pyamg)\n",
      "  Downloading https://files.pythonhosted.org/packages/98/42/87c585dd3b113c775e65fd6b8d9d0a43abe1819c471d7af702d4e01e9b20/packaging-20.1-py2.py3-none-any.whl\n",
      "Requirement already satisfied: zipp>=0.5 in /usr/local/lib/python3.7/site-packages (from importlib-metadata>=0.12; python_version < \"3.8\"->pytest>=2->pyamg) (0.6.0)\n",
      "Requirement already satisfied: pyparsing>=2.0.2 in /usr/local/lib/python3.7/site-packages (from packaging->pytest>=2->pyamg) (2.3.1)\n",
      "Requirement already satisfied: six in /usr/local/lib/python3.7/site-packages (from packaging->pytest>=2->pyamg) (1.12.0)\n",
      "Installing collected packages: pybind11, pluggy, py, packaging, pytest, pyamg\n",
      "Successfully installed packaging-20.1 pluggy-0.13.1 py-1.8.1 pyamg-4.0.0 pybind11-2.4.3 pytest-5.3.5\n"
     ]
    }
   ],
   "source": [
    "!pip3 install pyamg"
   ]
  },
  {
   "cell_type": "code",
   "execution_count": 11,
   "metadata": {},
   "outputs": [],
   "source": [
    "import pyamg\n",
    "import numpy as np\n",
    "import matplotlib.pyplot as plt"
   ]
  },
  {
   "cell_type": "code",
   "execution_count": 14,
   "metadata": {},
   "outputs": [
    {
     "name": "stdout",
     "output_type": "stream",
     "text": [
      "multilevel_solver\n",
      "Number of Levels:     4\n",
      "Operator Complexity:  1.848\n",
      "Grid Complexity:      1.480\n",
      "Coarse Solver:        'pinv2'\n",
      "  level   unknowns     nonzeros\n",
      "    0         3600        31684 [54.12%]\n",
      "    1         1198        17034 [29.10%]\n",
      "    2          399         7313 [12.49%]\n",
      "    3          132         2512 [ 4.29%]\n",
      "\n"
     ]
    }
   ],
   "source": [
    "# Define problem\n",
    "n=60\n",
    "sten = pyamg.gallery.diffusion.diffusion_stencil_2d(epsilon=0.0001, theta=np.pi/4, type='FE')\n",
    "A = pyamg.gallery.stencil_grid(sten, (n,n), format='csr')\n",
    "\n",
    "\n",
    "# Construct Ruge-Stüben AMG hierarchy using PyAMG\n",
    "ml = pyamg.ruge_stuben_solver(A, max_coarse=200, keep=True)\n",
    "print(ml)"
   ]
  },
  {
   "cell_type": "code",
   "execution_count": null,
   "metadata": {},
   "outputs": [],
   "source": [
    "# Idea: show two-level convergence\n",
    "# Look at error after relaxation, then after coarse-grid correction, then after post relaxation\n",
    "# Demonstrate that coarse\n",
    "# Show that this works for structured model problem as well as more difficult unstructured problem"
   ]
  },
  {
   "cell_type": "code",
   "execution_count": null,
   "metadata": {},
   "outputs": [],
   "source": []
  }
 ],
 "metadata": {
  "kernelspec": {
   "display_name": "Python 3",
   "language": "python",
   "name": "python3"
  },
  "language_info": {
   "codemirror_mode": {
    "name": "ipython",
    "version": 3
   },
   "file_extension": ".py",
   "mimetype": "text/x-python",
   "name": "python",
   "nbconvert_exporter": "python",
   "pygments_lexer": "ipython3",
   "version": "3.7.4"
  }
 },
 "nbformat": 4,
 "nbformat_minor": 2
}
