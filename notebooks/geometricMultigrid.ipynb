{
 "cells": [
  {
   "cell_type": "markdown",
   "metadata": {},
   "source": [
    "# Geometric Multigrid for 1D Poisson\n",
    " \n",
    "Poisson Equation:\n",
    "\n",
    "\\begin{align*}\n",
    "\\Delta u &= f, & \\Omega \\\\\n",
    "u &= 0, & \\partial \\Omega\n",
    "\\end{align*}\n",
    "\n",
    "Discretizing with finite differences on a regular 1D mesh:\n",
    "\n",
    "\\begin{align*}\n",
    "&\\frac{-u_{i-1} + 2u_i - u_{i+1}}{h^2} = f_i, & i = 1,2,..., N-1 \\\\\n",
    "&u_0 = u_N = 0\n",
    "\\end{align*}\n",
    "\n",
    "Resulting matrix system:\n",
    "\n",
    "\\begin{align}\n",
    "\\frac{1}{h^2}\\begin{bmatrix}\n",
    "2 & -1 & & & & & & \\\\\n",
    "-1 & 2 & -1 & & & & & \\\\\n",
    "& -1 & 2 & - 1 & & & & \\\\\n",
    "&  & \\ddots & \\ddots & \\ddots & & & \\\\\n",
    "& & & & & & & \\\\\n",
    "& & & & & -1 & 2 & -1 \\\\\n",
    "& & & & & & -1 & 2 \\\\\n",
    "\\end{bmatrix}\n",
    "\\begin{bmatrix}\n",
    "u_1 \\\\\n",
    "u_2 \\\\\n",
    "\\\\\n",
    "\\vdots \\\\\n",
    "\\\\\n",
    "\\\\\n",
    "u_{N-1} \\\\\n",
    "\\end{bmatrix}\n",
    "=\n",
    "\\begin{bmatrix}\n",
    "f_1 \\\\\n",
    "f_2 \\\\\n",
    "\\\\\n",
    "\\vdots \\\\\n",
    "\\\\\n",
    "\\\\\n",
    "f_{N-1} \\\\\n",
    "\\end{bmatrix}\n",
    "\\end{align}"
   ]
  },
  {
   "cell_type": "code",
   "execution_count": 21,
   "metadata": {},
   "outputs": [],
   "source": [
    "# Import some python libraries we need\n",
    "import numpy as np\n",
    "import matplotlib.pyplot as plt\n",
    "\n",
    "# Size of the fine-grid problem\n",
    "N = 16\n",
    "N_c = int(N/2)\n",
    "\n",
    "# 1D Model problem\n",
    "A = np.diag(2*np.ones(N-1)) + np.diag(-1*np.ones(N-2),k=-1) + np.diag(-1*np.ones(N-2),k=1) \n",
    "A_c = 0.25*np.diag(2*np.ones(N_c-1)) + np.diag(-1*np.ones(N_c-2),k=-1) + np.diag(-1*np.ones(N_c-2),k=1) \n",
    "\n",
    "# Print the matrix\n",
    "# print(A)\n",
    "\n",
    "# Define a random solution and corresponding right-hand side\n",
    "u_final = np.random.rand(N-1)\n",
    "f = np.dot(A,u_final)\n",
    "u = np.zeros((N-1,))\n",
    "\n",
    "# Define a constant right-hand side and corresponding solution\n",
    "# f = np.ones(N-1)\n",
    "# u_final = np.linalg.solve(A,f)\n",
    "# u = np.zeros(N-1)\n",
    "\n",
    "# Define a zero right-hand side and random initial guess\n",
    "# f = np.zeros(N-1)\n",
    "# u_final = np.zeros(N-1)\n",
    "# u = -1 + 2*np.random.rand(N)\n",
    "# u = np.cos(np.arange(N)*np.pi)\n",
    "\n",
    "# Initialize iteration count and next iterate\n",
    "u_next = u.copy()\n",
    "i = 0"
   ]
  },
  {
   "cell_type": "code",
   "execution_count": 22,
   "metadata": {},
   "outputs": [],
   "source": [
    "# Linear interpolation\n",
    "P = np.zeros((N-1,N_c-1))\n",
    "P[0,0] = 0.5\n",
    "P[N-2,N_c-2] = 0.5\n",
    "for i in range(2,N-1):\n",
    "    if i % 2 == 0:\n",
    "        P[i-1,int((i-1)/2)] = 1\n",
    "    else:\n",
    "        P[i-1,int((i-2)/2)] = 0.5\n",
    "        P[i-1,int((i)/2)] = 0.5\n",
    "# print(P)"
   ]
  },
  {
   "cell_type": "code",
   "execution_count": 23,
   "metadata": {},
   "outputs": [],
   "source": [
    "# Restriction by injection\n",
    "N_c = int(N/2)\n",
    "R_I = np.zeros((N_c-1,N-1))\n",
    "for i in range(N_c-1):\n",
    "    R_I[i,2*i+1] = 1\n",
    "# print(R_I)"
   ]
  },
  {
   "cell_type": "code",
   "execution_count": 32,
   "metadata": {},
   "outputs": [],
   "source": [
    "# Restriction by full-weighting\n",
    "R_FW = 0.5*P.transpose()\n",
    "# print(R_FW)"
   ]
  },
  {
   "cell_type": "code",
   "execution_count": 33,
   "metadata": {},
   "outputs": [
    {
     "name": "stdout",
     "output_type": "stream",
     "text": [
      "[[ 2. -1.  0.  0.  0.  0.  0.]\n",
      " [-1.  2. -1.  0.  0.  0.  0.]\n",
      " [ 0. -1.  2. -1.  0.  0.  0.]\n",
      " [ 0.  0. -1.  2. -1.  0.  0.]\n",
      " [ 0.  0.  0. -1.  2. -1.  0.]\n",
      " [ 0.  0.  0.  0. -1.  2. -1.]\n",
      " [ 0.  0.  0.  0.  0. -1.  2.]]\n",
      "[[ 0.5  -0.25  0.    0.    0.    0.    0.  ]\n",
      " [-0.25  0.5  -0.25  0.    0.    0.    0.  ]\n",
      " [ 0.   -0.25  0.5  -0.25  0.    0.    0.  ]\n",
      " [ 0.    0.   -0.25  0.5  -0.25  0.    0.  ]\n",
      " [ 0.    0.    0.   -0.25  0.5  -0.25  0.  ]\n",
      " [ 0.    0.    0.    0.   -0.25  0.5  -0.25]\n",
      " [ 0.    0.    0.    0.    0.   -0.25  0.5 ]]\n"
     ]
    }
   ],
   "source": [
    "print(A_c)\n",
    "print(np.dot(R_FW, np.dot(A,P)))"
   ]
  },
  {
   "cell_type": "code",
   "execution_count": null,
   "metadata": {},
   "outputs": [],
   "source": []
  }
 ],
 "metadata": {
  "kernelspec": {
   "display_name": "Python 3",
   "language": "python",
   "name": "python3"
  },
  "language_info": {
   "codemirror_mode": {
    "name": "ipython",
    "version": 3
   },
   "file_extension": ".py",
   "mimetype": "text/x-python",
   "name": "python",
   "nbconvert_exporter": "python",
   "pygments_lexer": "ipython3",
   "version": "3.6.8"
  }
 },
 "nbformat": 4,
 "nbformat_minor": 2
}
