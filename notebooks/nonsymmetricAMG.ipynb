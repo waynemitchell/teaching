{
 "cells": [
  {
   "cell_type": "code",
   "execution_count": 1,
   "metadata": {
    "collapsed": true
   },
   "outputs": [
    {
     "name": "stdout",
     "output_type": "stream",
     "text": [
      "Collecting pyamg\n",
      "  Using cached https://files.pythonhosted.org/packages/bc/1e/979fa78eeccfb5e4c9349dee6f836371982054af339df338d11cf767b3fc/pyamg-4.0.0-cp36-cp36m-manylinux1_x86_64.whl\n",
      "Collecting pybind11>=2.2 (from pyamg)\n",
      "  Using cached https://files.pythonhosted.org/packages/4b/4d/ae1c4d8e8b139afa9682054dd42df3b0e3b5c1731287933021b9fd7e9cc4/pybind11-2.4.3-py2.py3-none-any.whl\n",
      "Requirement already satisfied: scipy>=0.12.0 in /usr/local/lib64/python3.6/site-packages (from pyamg)\n",
      "Collecting pytest>=2 (from pyamg)\n",
      "  Using cached https://files.pythonhosted.org/packages/a5/c0/34033b2df7718b91c667bd259d5ce632ec3720198b7068c0ba6f6104ff89/pytest-5.3.5-py3-none-any.whl\n",
      "Requirement already satisfied: numpy>=1.7.0 in /usr/local/lib64/python3.6/site-packages (from pyamg)\n",
      "Collecting py>=1.5.0 (from pytest>=2->pyamg)\n",
      "  Using cached https://files.pythonhosted.org/packages/99/8d/21e1767c009211a62a8e3067280bfce76e89c9f876180308515942304d2d/py-1.8.1-py2.py3-none-any.whl\n",
      "Requirement already satisfied: importlib-metadata>=0.12; python_version < \"3.8\" in /usr/local/lib/python3.6/site-packages (from pytest>=2->pyamg)\n",
      "Requirement already satisfied: more-itertools>=4.0.0 in /usr/local/lib/python3.6/site-packages (from pytest>=2->pyamg)\n",
      "Requirement already satisfied: attrs>=17.4.0 in /usr/local/lib/python3.6/site-packages (from pytest>=2->pyamg)\n",
      "Collecting pluggy<1.0,>=0.12 (from pytest>=2->pyamg)\n",
      "  Using cached https://files.pythonhosted.org/packages/a0/28/85c7aa31b80d150b772fbe4a229487bc6644da9ccb7e427dd8cc60cb8a62/pluggy-0.13.1-py2.py3-none-any.whl\n",
      "Collecting packaging (from pytest>=2->pyamg)\n",
      "  Using cached https://files.pythonhosted.org/packages/98/42/87c585dd3b113c775e65fd6b8d9d0a43abe1819c471d7af702d4e01e9b20/packaging-20.1-py2.py3-none-any.whl\n",
      "Requirement already satisfied: wcwidth in /usr/local/lib/python3.6/site-packages (from pytest>=2->pyamg)\n",
      "Requirement already satisfied: zipp>=0.5 in /usr/local/lib/python3.6/site-packages (from importlib-metadata>=0.12; python_version < \"3.8\"->pytest>=2->pyamg)\n",
      "Requirement already satisfied: six in /usr/local/lib/python3.6/site-packages (from packaging->pytest>=2->pyamg)\n",
      "Requirement already satisfied: pyparsing>=2.0.2 in /usr/local/lib/python3.6/site-packages (from packaging->pytest>=2->pyamg)\n",
      "Installing collected packages: pybind11, py, pluggy, packaging, pytest, pyamg\n",
      "\u001b[31mException:\n",
      "Traceback (most recent call last):\n",
      "  File \"/usr/lib/python3.6/site-packages/pip/basecommand.py\", line 215, in main\n",
      "    status = self.run(options, args)\n",
      "  File \"/usr/lib/python3.6/site-packages/pip/commands/install.py\", line 365, in run\n",
      "    strip_file_prefix=options.strip_file_prefix,\n",
      "  File \"/usr/lib/python3.6/site-packages/pip/req/req_set.py\", line 789, in install\n",
      "    **kwargs\n",
      "  File \"/usr/lib/python3.6/site-packages/pip/req/req_install.py\", line 854, in install\n",
      "    strip_file_prefix=strip_file_prefix\n",
      "  File \"/usr/lib/python3.6/site-packages/pip/req/req_install.py\", line 1069, in move_wheel_files\n",
      "    strip_file_prefix=strip_file_prefix,\n",
      "  File \"/usr/lib/python3.6/site-packages/pip/wheel.py\", line 345, in move_wheel_files\n",
      "    clobber(source, lib_dir, True)\n",
      "  File \"/usr/lib/python3.6/site-packages/pip/wheel.py\", line 316, in clobber\n",
      "    ensure_dir(destdir)\n",
      "  File \"/usr/lib/python3.6/site-packages/pip/utils/__init__.py\", line 83, in ensure_dir\n",
      "    os.makedirs(path)\n",
      "  File \"/usr/lib64/python3.6/os.py\", line 220, in makedirs\n",
      "    mkdir(name, mode)\n",
      "PermissionError: [Errno 13] Permission denied: '/usr/local/lib/python3.6/site-packages/pybind11'\u001b[0m\n"
     ]
    }
   ],
   "source": [
    "!pip3 install pyamg"
   ]
  },
  {
   "cell_type": "code",
   "execution_count": 22,
   "metadata": {},
   "outputs": [],
   "source": [
    "import pyamg\n",
    "import numpy as np\n",
    "import matplotlib.pyplot as plt"
   ]
  },
  {
   "cell_type": "code",
   "execution_count": 80,
   "metadata": {},
   "outputs": [],
   "source": [
    "# Define problem\n",
    "n = 60 # 1D size\n",
    "N = n*n # 2D size\n",
    "k = 0.001 # diffusion coefficient\n",
    "bx = 1.0 # Advection x coefficient (choose bx >= 0)\n",
    "by = 1.0 # Advection y coefficient (choose by >= 0)\n",
    "\n",
    "sten_diff = pyamg.gallery.diffusion.diffusion_stencil_2d(epsilon=1.0, theta=0.0, type='FD')\n",
    "A_diff = k*pyamg.gallery.stencil_grid(sten_diff, (n,n), format='csr')\n",
    "\n",
    "stencil_adv = [[0,-by,0],[-bx,bx+by,0],[0,0,0]]\n",
    "A_adv = (1.0/n)*pyamg.gallery.stencil_grid(stencil_adv, (n,n), format='csr')\n",
    "\n",
    "A = A_diff + A_adv\n",
    "\n",
    "# print(A)\n",
    "\n",
    "# right-hand side\n",
    "f = np.random.rand(N)\n",
    "res = []"
   ]
  },
  {
   "cell_type": "code",
   "execution_count": 81,
   "metadata": {},
   "outputs": [
    {
     "name": "stdout",
     "output_type": "stream",
     "text": [
      "multilevel_solver\n",
      "Number of Levels:     6\n",
      "Operator Complexity:  3.350\n",
      "Grid Complexity:      2.057\n",
      "Coarse Solver:        'pinv2'\n",
      "  level   unknowns     nonzeros\n",
      "    0         3600        17760 [29.85%]\n",
      "    1         1910        12690 [21.33%]\n",
      "    2         1028        10096 [16.97%]\n",
      "    3          527         9305 [15.64%]\n",
      "    4          244         6464 [10.86%]\n",
      "    5           97         3187 [ 5.36%]\n",
      "\n",
      "[34.41125182270759, 1.3660732931860886, 0.013973650602791654, 0.00016171041300041796]\n",
      "0.016749911040682013\n"
     ]
    }
   ],
   "source": [
    "# Construct Ruge-Stüben AMG hierarchy using PyAMG and solve\n",
    "ml = pyamg.ruge_stuben_solver(A, max_coarse=200, keep=True)\n",
    "print(ml)\n",
    "u = ml.solve(f, residuals=res)\n",
    "res_numpy = np.array(res)\n",
    "cf = np.prod(res_numpy[1:len(res)]/res_numpy[0:len(res)-1])**(1.0/(len(res_numpy)-1))\n",
    "print(res)\n",
    "print(cf)"
   ]
  },
  {
   "cell_type": "code",
   "execution_count": null,
   "metadata": {},
   "outputs": [],
   "source": []
  }
 ],
 "metadata": {
  "kernelspec": {
   "display_name": "Python 3",
   "language": "python",
   "name": "python3"
  },
  "language_info": {
   "codemirror_mode": {
    "name": "ipython",
    "version": 3
   },
   "file_extension": ".py",
   "mimetype": "text/x-python",
   "name": "python",
   "nbconvert_exporter": "python",
   "pygments_lexer": "ipython3",
   "version": "3.6.8"
  }
 },
 "nbformat": 4,
 "nbformat_minor": 2
}
